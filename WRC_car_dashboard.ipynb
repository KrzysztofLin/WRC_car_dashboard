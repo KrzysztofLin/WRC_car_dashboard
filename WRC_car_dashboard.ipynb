{
  "cells": [
    {
      "cell_type": "markdown",
      "metadata": {
        "id": "view-in-github",
        "colab_type": "text"
      },
      "source": [
        "<a href=\"https://colab.research.google.com/github/KrzysztofLin/WRC_car_dashboard/blob/main/WRC_car_dashboard.ipynb\" target=\"_parent\"><img src=\"https://colab.research.google.com/assets/colab-badge.svg\" alt=\"Open In Colab\"/></a>"
      ]
    },
    {
      "cell_type": "code",
      "source": [
        "!pip install dash\n",
        "!pip install jupyter_dash\n",
        "!pip install dash_bootstrap_components"
      ],
      "metadata": {
        "id": "hI__peWV_4Ss"
      },
      "id": "hI__peWV_4Ss",
      "execution_count": null,
      "outputs": []
    },
    {
      "cell_type": "code",
      "execution_count": null,
      "id": "04a2e675",
      "metadata": {
        "id": "04a2e675"
      },
      "outputs": [],
      "source": [
        "import cv2\n",
        "import numpy as np\n",
        "import pandas as pd\n",
        "import seaborn as sns\n",
        "import plotly.express as px\n",
        "import matplotlib.pyplot as plt\n",
        "import plotly.graph_objects as go\n",
        "\n",
        "from tqdm import trange\n",
        "\n",
        "from dash.dependencies import Input, Output\n",
        "from jupyter_dash import JupyterDash\n",
        "\n",
        "import dash\n",
        "import dash_core_components as dcc\n",
        "import dash_html_components as html\n",
        "import dash_bootstrap_components as dbc\n",
        "\n",
        "import plotly.figure_factory as ff\n",
        "import numpy as np"
      ]
    },
    {
      "cell_type": "code",
      "source": [
        "from google.colab import drive\n",
        "drive.mount('/content/drive')"
      ],
      "metadata": {
        "id": "ySdksCjTQx3V"
      },
      "id": "ySdksCjTQx3V",
      "execution_count": null,
      "outputs": []
    },
    {
      "cell_type": "markdown",
      "source": [
        "Color and dashbord's object positions adjustments."
      ],
      "metadata": {
        "id": "Xm5pI-R6vPOf"
      },
      "id": "Xm5pI-R6vPOf"
    },
    {
      "cell_type": "code",
      "source": [
        "BG_COLOR = '#4d4846'\n",
        "FONT_COLOR = '#E4D6A7'\n",
        "BG_PIC_COLOR = '#5e5551'\n",
        "PAPER_BGCOLOR = '#6e6460'\n",
        "\n",
        "SIDEBAR_STYLE = {\n",
        "    'position': 'fixed',\n",
        "    'top': 0,\n",
        "    'left': 0,\n",
        "    'bottom': 0,\n",
        "    'width': '28rem',\n",
        "    'padding': '2rem 1rem',\n",
        "    'background-color': BG_COLOR,\n",
        "    'color': FONT_COLOR\n",
        "}\n",
        "\n",
        "CONTENT_STYLE = {\n",
        "    'margin-left': '28rem',\n",
        "    'margin-right': '0rem',\n",
        "    'padding': '2rem 1rem',\n",
        "    'background-color': BG_COLOR,\n",
        "    'color': FONT_COLOR,\n",
        "    'display':'inline-block'\n",
        "}"
      ],
      "metadata": {
        "id": "2O_TkglXQfTZ"
      },
      "id": "2O_TkglXQfTZ",
      "execution_count": null,
      "outputs": []
    },
    {
      "cell_type": "code",
      "source": [
        "from collections import defaultdict\n",
        "def plot_3D_scatterplot(df):\n",
        "  px.scatter_3d(df, y=\"G-Y\", x=\"G-X\", z=\"G-Z\", color=\"G-Y\", title=\"Wykres przeciążeń panujących w samochodzie\")\n",
        "\n",
        "def plot_graph_with_smooth_speed(dfa):\n",
        "  n = 10 # the number of rows\n",
        "  dfa = dfa[:-1]\n",
        "  smooth_speed = dfa['SPEED'].groupby(np.arange(len(dfa['SPEED'])) // n).mean()\n",
        "  smooth_df = pd.DataFrame()\n",
        "  smooth_df['SPEED'] = smooth_speed\n",
        "  smooth_df['UTC TIME'] = dfa['UTC TIME'].unique()\n",
        "  fig = px.line(smooth_df, y='SPEED', x='UTC TIME')\n",
        "  fig.update_layout(title_x=0.5, plot_bgcolor=BG_PIC_COLOR, paper_bgcolor=PAPER_BGCOLOR, xaxis_title=\"histogram\")\n",
        "  return fig\n",
        "\n",
        "\n",
        "def plot_speed_vs_time_graph(dfa):\n",
        "  indexer = pd.api.indexers.FixedForwardWindowIndexer(window_size=10)\n",
        "  c = dfa['SPEED'].rolling(indexer).mean()\n",
        "  c.iloc[:]\n",
        "  fig = px.line(dfa, y=dfa['SPEED'], x=dfa['UTC TIME'], title=\"Wykres prędkości do czasu\", color_discrete_sequence=['#fcd69a'])\n",
        "  fig.update_layout(font_color='#E4D6A7', title_x=0.5, plot_bgcolor=BG_PIC_COLOR, paper_bgcolor=PAPER_BGCOLOR, xaxis_title=\"Godzina\", yaxis_title = 'Prędkość pojazdu')\n",
        "  fig.update_xaxes(showgrid=True, gridwidth=1, gridcolor='#807875')\n",
        "  fig.update_yaxes(showgrid=True, gridwidth=1, gridcolor='#807875')\n",
        "\n",
        "  return fig\n",
        "\n",
        "def plot_histogram(dfa):\n",
        "  \n",
        "  # Create distplot with custom bin_size\n",
        "  fig = px.histogram(dfa, x=['G-X', 'G-Z', 'G-Y'],color = 'variable', color_discrete_sequence = ['#fcd69a','#f5a364','#e0654c'])\n",
        "  fig.update_layout(font_color='#E4D6A7', title_x=0.5, plot_bgcolor=BG_PIC_COLOR, paper_bgcolor=PAPER_BGCOLOR, xaxis_title=\"Wartość siły\", yaxis_title = \"Czestość\")\n",
        "  fig.update_xaxes(showgrid=True, gridwidth=1, gridcolor='#807875')\n",
        "  fig.update_yaxes(showgrid=True, gridwidth=1, gridcolor='#807875')\n",
        "  return fig\n",
        "\n",
        "def calculate_mean_max_speed(dfa):\n",
        "  \n",
        "  print(f\"AVG speed on rally stage {np.mean(dfa['SPEED']):.3f} km/h\")\n",
        "  print(f\"Maximum speed on rally stage {np.max(dfa['SPEED']):.3f} km/h\")\n",
        "\n",
        "# Dodac kolorowanie przyspieszenia i hamowania jako color_discrete_sequence i color_discrete_map\n",
        "# px.line(df_copy, 'LONGITUDE', 'LATITUDE', hover_data=[\"G-X\", \"G-Y\", \"G-Z\", \"SPEED\"])\n",
        "\n",
        "def plot_acceleration_graph(dfa):\n",
        "  fig = go.Figure()\n",
        "  fig.add_trace(go.Scatter(\n",
        "     x=dfa['G-X'],\n",
        "     y=dfa['G-Y'],\n",
        "     mode='markers',\n",
        "   \n",
        "  ))  \n",
        "  fig.update_xaxes(range=[-3, 1], zeroline=False)\n",
        "  fig.update_yaxes(range=[-4, 4])\n",
        "\n",
        "  px.scatter(x=dfa['G-X'], y=dfa['G-Y'])\n",
        "  fig.update_traces(marker=dict(color=\"#f7c472\"))\n",
        "  fig.add_shape(type=\"circle\",\n",
        "      xref=\"x\", yref=\"y\",\n",
        "      x0=-1.5, y0=-1, x1=-0.5, y1=1,\n",
        "      line_color='#fcd69a',\n",
        "  )\n",
        "  fig.add_shape(type=\"circle\",\n",
        "      xref=\"x\", yref=\"y\",\n",
        "      x0=-2, y0=-2, x1=0, y1=2,\n",
        "      line_color='#f5a364',\n",
        "  )\n",
        "  fig.add_shape(type=\"circle\",\n",
        "      xref=\"x\", yref=\"y\",\n",
        "      x0=-2.5, y0=-3, x1=0.5, y1=3,\n",
        "      line_color='#e0654c',\n",
        "  )\n",
        "  fig.update_layout(title_text='Wykres przeciążeń', title_x=0.5, font_color='#E4D6A7', plot_bgcolor=BG_PIC_COLOR, paper_bgcolor=PAPER_BGCOLOR, xaxis_title=\"Wartość siły G-X\", yaxis_title = \"Wartość siły G-Y\")\n",
        "  fig.update_xaxes(showgrid=True, gridwidth=1, gridcolor='#807875')\n",
        "  fig.update_yaxes(showgrid=True, gridwidth=1, gridcolor='#807875')\n",
        "  return fig\n"
      ],
      "metadata": {
        "id": "Ml2hSxm9aKO5"
      },
      "id": "Ml2hSxm9aKO5",
      "execution_count": null,
      "outputs": []
    },
    {
      "cell_type": "code",
      "execution_count": null,
      "id": "e4786873",
      "metadata": {
        "id": "e4786873"
      },
      "outputs": [],
      "source": [
        "def show_graph_with_moving_dot(dfa):\n",
        "  xy_array = dfa[['LONGITUDE', 'LATITUDE']].values\n",
        "  xm = np.min(xy_array[:, 0])\n",
        "  xM = np.max(xy_array[:, 0])\n",
        "  ym = np.min(xy_array[:, 1])\n",
        "  yM = np.max(xy_array[:, 1])\n",
        "\n",
        "  zx = xy_array.copy()\n",
        "  colors = ['aliceblue',  'aqua', 'aquamarine', 'darkturquoise']\n",
        "\n",
        "  N = len(xy_array)\n",
        "  fig = go.Figure(\n",
        "      data=[go.Scatter(x=xy_array[:, 0], y=xy_array[:, 1], mode=\"lines\", line=dict(width=2, color=\"#f7c472\")),\n",
        "            go.Scatter(x=xy_array[:, 0], y=xy_array[:, 1], mode=\"lines\", line=dict(width=2, color=\"#f7c472\")),],\n",
        "\n",
        "      layout=go.Layout(\n",
        "          xaxis=dict(range=[xm, xM], autorange=False, zeroline=False),\n",
        "          yaxis=dict(range=[ym, yM], autorange=False, zeroline=False),\n",
        "          title_font_color=\"#E4D6A7\",\n",
        "          legend_title_font_color=\"#E4D6A7\",\n",
        "          title_text=\"Trasa przejazdu\", hovermode=\"closest\",\n",
        "          updatemenus=[dict(type=\"buttons\",\n",
        "                            buttons=[dict(label=\"Play\",\n",
        "                                          method=\"animate\",\n",
        "                                          args=[None, {\"frame\": {\"duration\": 5}}])])]),\n",
        "      \n",
        "      frames=[go.Frame(\n",
        "          data=[go.Scatter(\n",
        "              x=[zx[:, 0][k]],\n",
        "              y=[zx[:, 1][k]],\n",
        "              mode=\"markers\",\n",
        "              marker=dict(color=\"red\", size=10))])\n",
        "\n",
        "          for k in trange(0, N, 1)]\n",
        "  #         frames = [go.Frame(data=i) for i in get_markers(zx)]\n",
        "\n",
        "  )\n",
        "  fig.update_layout(font_color='#E4D6A7',title_font_color=\"#E4D6A7\",legend_font_color='#E4D6A7', legend_title_font_color=\"#E4D6A7\",title_x=0.5,plot_bgcolor = BG_PIC_COLOR, paper_bgcolor=PAPER_BGCOLOR,xaxis_title=\"Długość geograficzna\", yaxis_title = \"Szerokość geograficzna\")\n",
        "  fig.update_xaxes(showgrid=True, gridwidth=1, gridcolor='#807875')\n",
        "  fig.update_yaxes(showgrid=True, gridwidth=1, gridcolor='#807875')\n",
        "  return fig"
      ]
    },
    {
      "cell_type": "markdown",
      "source": [
        "# Dashboard creation"
      ],
      "metadata": {
        "id": "oVbgcW88_XhX"
      },
      "id": "oVbgcW88_XhX"
    },
    {
      "cell_type": "code",
      "source": [
        "external_stylesheets = [dbc.themes.SLATE]\n",
        "app = JupyterDash(__name__,external_stylesheets=external_stylesheets)\n",
        "app.title = \"Badania przyspieszen\"\n",
        "server = app.server"
      ],
      "metadata": {
        "id": "cVOCfaW90gze"
      },
      "id": "cVOCfaW90gze",
      "execution_count": null,
      "outputs": []
    },
    {
      "cell_type": "markdown",
      "source": [
        "Funkcja stworzona do wyboru okrażeń i odpowiadających im położeń"
      ],
      "metadata": {
        "id": "8ZMGFNZjihBF"
      },
      "id": "8ZMGFNZjihBF"
    },
    {
      "cell_type": "code",
      "source": [
        "df = pd.read_csv('/content/drive/MyDrive/analiza danych/wizualizacja danych/trening_18_05_2022/trening.csv')\n",
        "laps = df['LAP ID'].unique()\n",
        "value = [2,6]\n",
        "df_based_on_laps = df.loc[(df['LAP ID'] >= value[0]) & (df['LAP ID'] <= value[1])]\n",
        "xy_array = df_based_on_laps[['LONGITUDE', 'LATITUDE']].values"
      ],
      "metadata": {
        "id": "f98dqWQGfxJi"
      },
      "id": "f98dqWQGfxJi",
      "execution_count": null,
      "outputs": []
    },
    {
      "cell_type": "code",
      "source": [
        "sidebar = html.Div([\n",
        "        html.H3('Dodatkowe wykresy: '),\n",
        "        html.Hr(),\n",
        "        html.P(\n",
        "            'Histogram przyspieszeń kierunkowych pojazdu.', className='lead'\n",
        "        ),\n",
        "\n",
        "        dbc.Row([\n",
        "                 dbc.Col(dcc.Graph(id='graph1', figure = plot_histogram(df_based_on_laps)))\n",
        "        ]),\n",
        "\n",
        "        html.P(\n",
        "            'Wykres polarny przyspieszeń kierunkowych pojazdu.', className='lead'\n",
        "        ),\n",
        "\n",
        "        dbc.Row([\n",
        "                 dbc.Col(dcc.Graph(id='graph12', figure = plot_acceleration_graph(df_based_on_laps)))\n",
        "        ]), \n",
        "            \n",
        "    ],\n",
        "    style=SIDEBAR_STYLE,\n",
        ")"
      ],
      "metadata": {
        "id": "if_YutX4maRE"
      },
      "id": "if_YutX4maRE",
      "execution_count": null,
      "outputs": []
    },
    {
      "cell_type": "code",
      "source": [
        "content = html.Div([\n",
        "     html.H3('Grand tour. Measurment of the forces exerted on a racing car during a run on the track.'),\n",
        "     html.Hr(),\n",
        "     html.P(\n",
        "            'The dashboard presents graphs visualising the movement of the vehicle on the track, a histogram and polar plot of vehicle acceleration and a plot of vehicle speed versus time.', className='lead'\n",
        "        ),\n",
        "     dbc.Row([\n",
        "                dbc.Label('To select a lap, grab and move the slider'),               \n",
        "                dcc.RangeSlider(1, 36, 1, value=[2, 6], id = 'laps_slider'),\n",
        "            ]),  \n",
        "     dbc.Row(\n",
        "                [                \n",
        "                    dbc.Col(dcc.Graph(id='graph2', figure = show_graph_with_moving_dot(df_based_on_laps)))\n",
        "                ],\n",
        "                align=\"center\",\n",
        "          ),\n",
        "     dbc.Row(\n",
        "                [                \n",
        "                    dbc.Col(dcc.Graph(id='graph3', figure = plot_speed_vs_time_graph(df_based_on_laps)))\n",
        "                ],\n",
        "                align=\"center\",\n",
        "          ),\n",
        "\n",
        "    ],style=CONTENT_STYLE)\n",
        "\n",
        "app.layout = html.Div([sidebar, content])"
      ],
      "metadata": {
        "id": "_ciih_D4QhdL",
        "colab": {
          "base_uri": "https://localhost:8080/"
        },
        "outputId": "c969d395-291f-4aa4-dbe4-a962d709d3bb"
      },
      "id": "_ciih_D4QhdL",
      "execution_count": null,
      "outputs": [
        {
          "output_type": "stream",
          "name": "stderr",
          "text": [
            "100%|██████████| 2278/2278 [00:01<00:00, 1337.74it/s]\n"
          ]
        }
      ]
    },
    {
      "cell_type": "code",
      "source": [
        "@app.callback(\n",
        "    Output(component_id='graph1',component_property='figure'), \n",
        "    Output(component_id='graph12',component_property='figure'), \n",
        "    Output(component_id='graph2',component_property='figure'), \n",
        "    Output(component_id='graph3',component_property='figure'),\n",
        "    Input(component_id='laps_slider',component_property='value')) #slider\n",
        "\n",
        "def update_output(input_value):\n",
        "  dfa = dfa = df.loc[(df['LAP ID'] >= input_value[0]) & (df['LAP ID'] <= input_value[1])]\n",
        "  return plot_histogram(dfa),plot_acceleration_graph(dfa),  show_graph_with_moving_dot(dfa), plot_speed_vs_time_graph(dfa)"
      ],
      "metadata": {
        "id": "KwK3Cj6ihaSp"
      },
      "id": "KwK3Cj6ihaSp",
      "execution_count": null,
      "outputs": []
    },
    {
      "cell_type": "code",
      "source": [
        "app.run_server(mode='inline', host='localhost', port=1111)"
      ],
      "metadata": {
        "colab": {
          "base_uri": "https://localhost:8080/",
          "height": 671
        },
        "id": "sTf9dmrWQmm6",
        "outputId": "706c9730-621d-4188-a7d6-8ad43e2afc1d"
      },
      "id": "sTf9dmrWQmm6",
      "execution_count": null,
      "outputs": [
        {
          "output_type": "display_data",
          "data": {
            "text/plain": [
              "<IPython.core.display.Javascript object>"
            ],
            "application/javascript": [
              "(async (port, path, width, height, cache, element) => {\n",
              "    if (!google.colab.kernel.accessAllowed && !cache) {\n",
              "      return;\n",
              "    }\n",
              "    element.appendChild(document.createTextNode(''));\n",
              "    const url = await google.colab.kernel.proxyPort(port, {cache});\n",
              "    const iframe = document.createElement('iframe');\n",
              "    iframe.src = new URL(path, url).toString();\n",
              "    iframe.height = height;\n",
              "    iframe.width = width;\n",
              "    iframe.style.border = 0;\n",
              "    element.appendChild(iframe);\n",
              "  })(1111, \"/\", \"100%\", 650, false, window.element)"
            ]
          },
          "metadata": {}
        }
      ]
    }
  ],
  "metadata": {
    "kernelspec": {
      "display_name": "Python 3 (ipykernel)",
      "language": "python",
      "name": "python3"
    },
    "language_info": {
      "codemirror_mode": {
        "name": "ipython",
        "version": 3
      },
      "file_extension": ".py",
      "mimetype": "text/x-python",
      "name": "python",
      "nbconvert_exporter": "python",
      "pygments_lexer": "ipython3",
      "version": "3.8.10"
    },
    "colab": {
      "name": "WRC_car_dashboard.ipynb",
      "provenance": [],
      "collapsed_sections": [],
      "include_colab_link": true
    }
  },
  "nbformat": 4,
  "nbformat_minor": 5
}