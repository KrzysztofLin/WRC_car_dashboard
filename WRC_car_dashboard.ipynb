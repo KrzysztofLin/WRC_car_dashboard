{
  "cells": [
    {
      "cell_type": "markdown",
      "metadata": {
        "id": "view-in-github",
        "colab_type": "text"
      },
      "source": [
        "<a href=\"https://colab.research.google.com/github/KrzysztofLin/WRC_car_dashboard/blob/main/WRC_car_dashboard.ipynb\" target=\"_parent\"><img src=\"https://colab.research.google.com/assets/colab-badge.svg\" alt=\"Open In Colab\"/></a>"
      ]
    },
    {
      "cell_type": "code",
      "source": [
        "!pip install dash\n",
        "!pip install jupyter_dash\n",
        "!pip install dash_bootstrap_components"
      ],
      "metadata": {
        "id": "hI__peWV_4Ss",
        "colab": {
          "base_uri": "https://localhost:8080/"
        },
        "outputId": "f4a052e4-5b67-4a60-9b85-be25c0723afe"
      },
      "id": "hI__peWV_4Ss",
      "execution_count": 1,
      "outputs": [
        {
          "output_type": "stream",
          "name": "stdout",
          "text": [
            "Looking in indexes: https://pypi.org/simple, https://us-python.pkg.dev/colab-wheels/public/simple/\n",
            "Collecting dash\n",
            "  Downloading dash-2.5.0-py3-none-any.whl (9.8 MB)\n",
            "\u001b[K     |████████████████████████████████| 9.8 MB 4.1 MB/s \n",
            "\u001b[?25hCollecting dash-html-components==2.0.0\n",
            "  Downloading dash_html_components-2.0.0-py3-none-any.whl (4.1 kB)\n",
            "Requirement already satisfied: Flask>=1.0.4 in /usr/local/lib/python3.7/dist-packages (from dash) (1.1.4)\n",
            "Requirement already satisfied: plotly>=5.0.0 in /usr/local/lib/python3.7/dist-packages (from dash) (5.5.0)\n",
            "Collecting dash-core-components==2.0.0\n",
            "  Downloading dash_core_components-2.0.0-py3-none-any.whl (3.8 kB)\n",
            "Collecting dash-table==5.0.0\n",
            "  Downloading dash_table-5.0.0-py3-none-any.whl (3.9 kB)\n",
            "Collecting flask-compress\n",
            "  Downloading Flask_Compress-1.12-py3-none-any.whl (7.9 kB)\n",
            "Requirement already satisfied: Jinja2<3.0,>=2.10.1 in /usr/local/lib/python3.7/dist-packages (from Flask>=1.0.4->dash) (2.11.3)\n",
            "Requirement already satisfied: Werkzeug<2.0,>=0.15 in /usr/local/lib/python3.7/dist-packages (from Flask>=1.0.4->dash) (1.0.1)\n",
            "Requirement already satisfied: itsdangerous<2.0,>=0.24 in /usr/local/lib/python3.7/dist-packages (from Flask>=1.0.4->dash) (1.1.0)\n",
            "Requirement already satisfied: click<8.0,>=5.1 in /usr/local/lib/python3.7/dist-packages (from Flask>=1.0.4->dash) (7.1.2)\n",
            "Requirement already satisfied: MarkupSafe>=0.23 in /usr/local/lib/python3.7/dist-packages (from Jinja2<3.0,>=2.10.1->Flask>=1.0.4->dash) (2.0.1)\n",
            "Requirement already satisfied: six in /usr/local/lib/python3.7/dist-packages (from plotly>=5.0.0->dash) (1.15.0)\n",
            "Requirement already satisfied: tenacity>=6.2.0 in /usr/local/lib/python3.7/dist-packages (from plotly>=5.0.0->dash) (8.0.1)\n",
            "Collecting brotli\n",
            "  Downloading Brotli-1.0.9-cp37-cp37m-manylinux1_x86_64.whl (357 kB)\n",
            "\u001b[K     |████████████████████████████████| 357 kB 62.2 MB/s \n",
            "\u001b[?25hInstalling collected packages: brotli, flask-compress, dash-table, dash-html-components, dash-core-components, dash\n",
            "Successfully installed brotli-1.0.9 dash-2.5.0 dash-core-components-2.0.0 dash-html-components-2.0.0 dash-table-5.0.0 flask-compress-1.12\n",
            "Looking in indexes: https://pypi.org/simple, https://us-python.pkg.dev/colab-wheels/public/simple/\n",
            "Collecting jupyter_dash\n",
            "  Downloading jupyter_dash-0.4.2-py3-none-any.whl (23 kB)\n",
            "Requirement already satisfied: dash in /usr/local/lib/python3.7/dist-packages (from jupyter_dash) (2.5.0)\n",
            "Collecting retrying\n",
            "  Downloading retrying-1.3.3.tar.gz (10 kB)\n",
            "Requirement already satisfied: requests in /usr/local/lib/python3.7/dist-packages (from jupyter_dash) (2.23.0)\n",
            "Collecting ansi2html\n",
            "  Downloading ansi2html-1.7.0-py3-none-any.whl (15 kB)\n",
            "Requirement already satisfied: nest-asyncio in /usr/local/lib/python3.7/dist-packages (from jupyter_dash) (1.5.5)\n",
            "Requirement already satisfied: ipython in /usr/local/lib/python3.7/dist-packages (from jupyter_dash) (5.5.0)\n",
            "Requirement already satisfied: ipykernel in /usr/local/lib/python3.7/dist-packages (from jupyter_dash) (4.10.1)\n",
            "Requirement already satisfied: flask in /usr/local/lib/python3.7/dist-packages (from jupyter_dash) (1.1.4)\n",
            "Requirement already satisfied: importlib-metadata in /usr/local/lib/python3.7/dist-packages (from ansi2html->jupyter_dash) (4.11.4)\n",
            "Requirement already satisfied: plotly>=5.0.0 in /usr/local/lib/python3.7/dist-packages (from dash->jupyter_dash) (5.5.0)\n",
            "Requirement already satisfied: dash-core-components==2.0.0 in /usr/local/lib/python3.7/dist-packages (from dash->jupyter_dash) (2.0.0)\n",
            "Requirement already satisfied: dash-table==5.0.0 in /usr/local/lib/python3.7/dist-packages (from dash->jupyter_dash) (5.0.0)\n",
            "Requirement already satisfied: dash-html-components==2.0.0 in /usr/local/lib/python3.7/dist-packages (from dash->jupyter_dash) (2.0.0)\n",
            "Requirement already satisfied: flask-compress in /usr/local/lib/python3.7/dist-packages (from dash->jupyter_dash) (1.12)\n",
            "Requirement already satisfied: Jinja2<3.0,>=2.10.1 in /usr/local/lib/python3.7/dist-packages (from flask->jupyter_dash) (2.11.3)\n",
            "Requirement already satisfied: click<8.0,>=5.1 in /usr/local/lib/python3.7/dist-packages (from flask->jupyter_dash) (7.1.2)\n",
            "Requirement already satisfied: Werkzeug<2.0,>=0.15 in /usr/local/lib/python3.7/dist-packages (from flask->jupyter_dash) (1.0.1)\n",
            "Requirement already satisfied: itsdangerous<2.0,>=0.24 in /usr/local/lib/python3.7/dist-packages (from flask->jupyter_dash) (1.1.0)\n",
            "Requirement already satisfied: MarkupSafe>=0.23 in /usr/local/lib/python3.7/dist-packages (from Jinja2<3.0,>=2.10.1->flask->jupyter_dash) (2.0.1)\n",
            "Requirement already satisfied: tenacity>=6.2.0 in /usr/local/lib/python3.7/dist-packages (from plotly>=5.0.0->dash->jupyter_dash) (8.0.1)\n",
            "Requirement already satisfied: six in /usr/local/lib/python3.7/dist-packages (from plotly>=5.0.0->dash->jupyter_dash) (1.15.0)\n",
            "Requirement already satisfied: brotli in /usr/local/lib/python3.7/dist-packages (from flask-compress->dash->jupyter_dash) (1.0.9)\n",
            "Requirement already satisfied: zipp>=0.5 in /usr/local/lib/python3.7/dist-packages (from importlib-metadata->ansi2html->jupyter_dash) (3.8.0)\n",
            "Requirement already satisfied: typing-extensions>=3.6.4 in /usr/local/lib/python3.7/dist-packages (from importlib-metadata->ansi2html->jupyter_dash) (4.2.0)\n",
            "Requirement already satisfied: tornado>=4.0 in /usr/local/lib/python3.7/dist-packages (from ipykernel->jupyter_dash) (5.1.1)\n",
            "Requirement already satisfied: jupyter-client in /usr/local/lib/python3.7/dist-packages (from ipykernel->jupyter_dash) (5.3.5)\n",
            "Requirement already satisfied: traitlets>=4.1.0 in /usr/local/lib/python3.7/dist-packages (from ipykernel->jupyter_dash) (5.1.1)\n",
            "Requirement already satisfied: simplegeneric>0.8 in /usr/local/lib/python3.7/dist-packages (from ipython->jupyter_dash) (0.8.1)\n",
            "Requirement already satisfied: pygments in /usr/local/lib/python3.7/dist-packages (from ipython->jupyter_dash) (2.6.1)\n",
            "Requirement already satisfied: pexpect in /usr/local/lib/python3.7/dist-packages (from ipython->jupyter_dash) (4.8.0)\n",
            "Requirement already satisfied: decorator in /usr/local/lib/python3.7/dist-packages (from ipython->jupyter_dash) (4.4.2)\n",
            "Requirement already satisfied: setuptools>=18.5 in /usr/local/lib/python3.7/dist-packages (from ipython->jupyter_dash) (57.4.0)\n",
            "Requirement already satisfied: prompt-toolkit<2.0.0,>=1.0.4 in /usr/local/lib/python3.7/dist-packages (from ipython->jupyter_dash) (1.0.18)\n",
            "Requirement already satisfied: pickleshare in /usr/local/lib/python3.7/dist-packages (from ipython->jupyter_dash) (0.7.5)\n",
            "Requirement already satisfied: wcwidth in /usr/local/lib/python3.7/dist-packages (from prompt-toolkit<2.0.0,>=1.0.4->ipython->jupyter_dash) (0.2.5)\n",
            "Requirement already satisfied: jupyter-core>=4.6.0 in /usr/local/lib/python3.7/dist-packages (from jupyter-client->ipykernel->jupyter_dash) (4.10.0)\n",
            "Requirement already satisfied: python-dateutil>=2.1 in /usr/local/lib/python3.7/dist-packages (from jupyter-client->ipykernel->jupyter_dash) (2.8.2)\n",
            "Requirement already satisfied: pyzmq>=13 in /usr/local/lib/python3.7/dist-packages (from jupyter-client->ipykernel->jupyter_dash) (23.0.0)\n",
            "Requirement already satisfied: ptyprocess>=0.5 in /usr/local/lib/python3.7/dist-packages (from pexpect->ipython->jupyter_dash) (0.7.0)\n",
            "Requirement already satisfied: urllib3!=1.25.0,!=1.25.1,<1.26,>=1.21.1 in /usr/local/lib/python3.7/dist-packages (from requests->jupyter_dash) (1.24.3)\n",
            "Requirement already satisfied: chardet<4,>=3.0.2 in /usr/local/lib/python3.7/dist-packages (from requests->jupyter_dash) (3.0.4)\n",
            "Requirement already satisfied: idna<3,>=2.5 in /usr/local/lib/python3.7/dist-packages (from requests->jupyter_dash) (2.10)\n",
            "Requirement already satisfied: certifi>=2017.4.17 in /usr/local/lib/python3.7/dist-packages (from requests->jupyter_dash) (2022.5.18.1)\n",
            "Building wheels for collected packages: retrying\n",
            "  Building wheel for retrying (setup.py) ... \u001b[?25l\u001b[?25hdone\n",
            "  Created wheel for retrying: filename=retrying-1.3.3-py3-none-any.whl size=11447 sha256=d16e34cd1d305151cb27715d50a1ce0c991736a02aa6b36466e78d738b33a1a6\n",
            "  Stored in directory: /root/.cache/pip/wheels/f9/8d/8d/f6af3f7f9eea3553bc2fe6d53e4b287dad18b06a861ac56ddf\n",
            "Successfully built retrying\n",
            "Installing collected packages: retrying, ansi2html, jupyter-dash\n",
            "Successfully installed ansi2html-1.7.0 jupyter-dash-0.4.2 retrying-1.3.3\n",
            "Looking in indexes: https://pypi.org/simple, https://us-python.pkg.dev/colab-wheels/public/simple/\n",
            "Collecting dash_bootstrap_components\n",
            "  Downloading dash_bootstrap_components-1.1.0-py3-none-any.whl (210 kB)\n",
            "\u001b[K     |████████████████████████████████| 210 kB 5.3 MB/s \n",
            "\u001b[?25hRequirement already satisfied: dash>=2.0.0 in /usr/local/lib/python3.7/dist-packages (from dash_bootstrap_components) (2.5.0)\n",
            "Requirement already satisfied: dash-core-components==2.0.0 in /usr/local/lib/python3.7/dist-packages (from dash>=2.0.0->dash_bootstrap_components) (2.0.0)\n",
            "Requirement already satisfied: plotly>=5.0.0 in /usr/local/lib/python3.7/dist-packages (from dash>=2.0.0->dash_bootstrap_components) (5.5.0)\n",
            "Requirement already satisfied: Flask>=1.0.4 in /usr/local/lib/python3.7/dist-packages (from dash>=2.0.0->dash_bootstrap_components) (1.1.4)\n",
            "Requirement already satisfied: dash-html-components==2.0.0 in /usr/local/lib/python3.7/dist-packages (from dash>=2.0.0->dash_bootstrap_components) (2.0.0)\n",
            "Requirement already satisfied: dash-table==5.0.0 in /usr/local/lib/python3.7/dist-packages (from dash>=2.0.0->dash_bootstrap_components) (5.0.0)\n",
            "Requirement already satisfied: flask-compress in /usr/local/lib/python3.7/dist-packages (from dash>=2.0.0->dash_bootstrap_components) (1.12)\n",
            "Requirement already satisfied: Jinja2<3.0,>=2.10.1 in /usr/local/lib/python3.7/dist-packages (from Flask>=1.0.4->dash>=2.0.0->dash_bootstrap_components) (2.11.3)\n",
            "Requirement already satisfied: itsdangerous<2.0,>=0.24 in /usr/local/lib/python3.7/dist-packages (from Flask>=1.0.4->dash>=2.0.0->dash_bootstrap_components) (1.1.0)\n",
            "Requirement already satisfied: click<8.0,>=5.1 in /usr/local/lib/python3.7/dist-packages (from Flask>=1.0.4->dash>=2.0.0->dash_bootstrap_components) (7.1.2)\n",
            "Requirement already satisfied: Werkzeug<2.0,>=0.15 in /usr/local/lib/python3.7/dist-packages (from Flask>=1.0.4->dash>=2.0.0->dash_bootstrap_components) (1.0.1)\n",
            "Requirement already satisfied: MarkupSafe>=0.23 in /usr/local/lib/python3.7/dist-packages (from Jinja2<3.0,>=2.10.1->Flask>=1.0.4->dash>=2.0.0->dash_bootstrap_components) (2.0.1)\n",
            "Requirement already satisfied: six in /usr/local/lib/python3.7/dist-packages (from plotly>=5.0.0->dash>=2.0.0->dash_bootstrap_components) (1.15.0)\n",
            "Requirement already satisfied: tenacity>=6.2.0 in /usr/local/lib/python3.7/dist-packages (from plotly>=5.0.0->dash>=2.0.0->dash_bootstrap_components) (8.0.1)\n",
            "Requirement already satisfied: brotli in /usr/local/lib/python3.7/dist-packages (from flask-compress->dash>=2.0.0->dash_bootstrap_components) (1.0.9)\n",
            "Installing collected packages: dash-bootstrap-components\n",
            "Successfully installed dash-bootstrap-components-1.1.0\n"
          ]
        }
      ]
    },
    {
      "cell_type": "code",
      "execution_count": 2,
      "id": "04a2e675",
      "metadata": {
        "id": "04a2e675",
        "colab": {
          "base_uri": "https://localhost:8080/",
          "height": 156
        },
        "outputId": "1633dfc8-9150-4632-f97d-bf90e03c7ec4"
      },
      "outputs": [
        {
          "output_type": "stream",
          "name": "stderr",
          "text": [
            "/usr/local/lib/python3.7/dist-packages/ipykernel_launcher.py:15: UserWarning: \n",
            "The dash_core_components package is deprecated. Please replace\n",
            "`import dash_core_components as dcc` with `from dash import dcc`\n",
            "  from ipykernel import kernelapp as app\n",
            "/usr/local/lib/python3.7/dist-packages/ipykernel_launcher.py:16: UserWarning: \n",
            "The dash_html_components package is deprecated. Please replace\n",
            "`import dash_html_components as html` with `from dash import html`\n",
            "  app.launch_new_instance()\n"
          ]
        }
      ],
      "source": [
        "import cv2\n",
        "import numpy as np\n",
        "import pandas as pd\n",
        "import seaborn as sns\n",
        "import plotly.express as px\n",
        "import matplotlib.pyplot as plt\n",
        "import plotly.graph_objects as go\n",
        "\n",
        "from tqdm import trange\n",
        "\n",
        "from dash.dependencies import Input, Output\n",
        "from jupyter_dash import JupyterDash\n",
        "\n",
        "import dash\n",
        "import dash_core_components as dcc\n",
        "import dash_html_components as html\n",
        "import dash_bootstrap_components as dbc\n",
        "\n",
        "import plotly.figure_factory as ff\n",
        "import numpy as np"
      ]
    },
    {
      "cell_type": "code",
      "source": [
        "from google.colab import drive\n",
        "drive.mount('/content/drive')"
      ],
      "metadata": {
        "id": "ySdksCjTQx3V",
        "colab": {
          "base_uri": "https://localhost:8080/"
        },
        "outputId": "4e460f50-7b26-42e3-ef36-1ac1dda51847"
      },
      "id": "ySdksCjTQx3V",
      "execution_count": 3,
      "outputs": [
        {
          "output_type": "stream",
          "name": "stdout",
          "text": [
            "Mounted at /content/drive\n"
          ]
        }
      ]
    },
    {
      "cell_type": "markdown",
      "source": [
        "Color and dashbord's object positions adjustments."
      ],
      "metadata": {
        "id": "Xm5pI-R6vPOf"
      },
      "id": "Xm5pI-R6vPOf"
    },
    {
      "cell_type": "code",
      "source": [
        "BG_COLOR = '#4d4846'\n",
        "FONT_COLOR = '#E4D6A7'\n",
        "BG_PIC_COLOR = '#5e5551'\n",
        "PAPER_BGCOLOR = '#6e6460'\n",
        "BG_GRAPH_COLOR = '#807875'\n",
        "COLOR_DISCRETE_SEQUENCE = ['#fcd69a','#f5a364','#e0654c']\n",
        "\n",
        "SIDEBAR_STYLE = {\n",
        "    'position': 'fixed',\n",
        "    'top': 0,\n",
        "    'left': 0,\n",
        "    'bottom': 0,\n",
        "    'width': '28rem',\n",
        "    'padding': '2rem 1rem',\n",
        "    'background-color': BG_COLOR,\n",
        "    'color': FONT_COLOR\n",
        "}\n",
        "\n",
        "CONTENT_STYLE = {\n",
        "    'margin-left': '28rem',\n",
        "    'margin-right': '0rem',\n",
        "    'padding': '2rem 1rem',\n",
        "    'background-color': BG_COLOR,\n",
        "    'color': FONT_COLOR,\n",
        "    'display':'inline-block'\n",
        "}"
      ],
      "metadata": {
        "id": "2O_TkglXQfTZ"
      },
      "id": "2O_TkglXQfTZ",
      "execution_count": 13,
      "outputs": []
    },
    {
      "cell_type": "code",
      "source": [
        "from collections import defaultdict\n",
        "def plot_3D_scatterplot(df):\n",
        "  px.scatter_3d(df, y=\"G-Y\", x=\"G-X\", z=\"G-Z\", color=\"G-Y\", title=\"Wykres przeciążeń panujących w samochodzie\")\n",
        "\n",
        "def plot_graph_with_smooth_speed(dfa):\n",
        "  n = 10 # the number of rows\n",
        "  dfa = dfa[:-1]\n",
        "  smooth_speed = dfa['SPEED'].groupby(np.arange(len(dfa['SPEED'])) // n).mean()\n",
        "  smooth_df = pd.DataFrame()\n",
        "  smooth_df['SPEED'] = smooth_speed\n",
        "  smooth_df['UTC TIME'] = dfa['UTC TIME'].unique()\n",
        "  fig = px.line(smooth_df, y='SPEED', x='UTC TIME')\n",
        "  fig.update_layout(title_x=0.5, \n",
        "                    plot_bgcolor=BG_PIC_COLOR, \n",
        "                    paper_bgcolor=PAPER_BGCOLOR, \n",
        "                    xaxis_title=\"Histogram\")\n",
        "  return fig\n",
        "\n",
        "\n",
        "def plot_speed_vs_time_graph(dfa):\n",
        "  indexer = pd.api.indexers.FixedForwardWindowIndexer(window_size=10)\n",
        "  c = dfa['SPEED'].rolling(indexer).mean()\n",
        "  c.iloc[:]\n",
        "  fig = px.line(dfa, \n",
        "                y=dfa['SPEED'], \n",
        "                x=dfa['UTC TIME'], \n",
        "                title=\"Speed vs time graph\", \n",
        "                color_discrete_sequence=[COLOR_DISCRETE_SEQUENCE[0]])\n",
        "  fig.update_layout(font_color=FONT_COLOR, \n",
        "                    title_x=0.5, \n",
        "                    plot_bgcolor=BG_PIC_COLOR, \n",
        "                    paper_bgcolor=PAPER_BGCOLOR, \n",
        "                    xaxis_title=\"Time\", \n",
        "                    yaxis_title =\"Vehicle speed\")\n",
        "  fig.update_xaxes(showgrid=True, gridwidth=1, gridcolor=BG_GRAPH_COLOR)\n",
        "  fig.update_yaxes(showgrid=True, gridwidth=1, gridcolor=BG_GRAPH_COLOR)\n",
        "  return fig\n",
        "\n",
        "\n",
        "def plot_histogram(dfa):\n",
        "  # Create distplot with custom bin_size\n",
        "  fig = px.histogram(dfa, \n",
        "                     x=['G-X', 'G-Z', 'G-Y'],\n",
        "                     color = 'variable', \n",
        "                     color_discrete_sequence=COLOR_DISCRETE_SEQUENCE)\n",
        "  fig.update_layout(font_color=FONT_COLOR, \n",
        "                    title_x=0.5, \n",
        "                    plot_bgcolor=BG_PIC_COLOR, \n",
        "                    paper_bgcolor=PAPER_BGCOLOR, \n",
        "                    xaxis_title=\"Force value\", \n",
        "                    yaxis_title=\"Frequency\")\n",
        "  fig.update_xaxes(showgrid=True, gridwidth=1, gridcolor=BG_GRAPH_COLOR)\n",
        "  fig.update_yaxes(showgrid=True, gridwidth=1, gridcolor=BG_GRAPH_COLOR)\n",
        "  return fig\n",
        "\n",
        "def calculate_mean_max_speed(dfa):  \n",
        "  print(f\"AVG speed on rally stage {np.mean(dfa['SPEED']):.3f} km/h\")\n",
        "  print(f\"Maximum speed on rally stage {np.max(dfa['SPEED']):.3f} km/h\")\n",
        "\n",
        "def plot_acceleration_graph(dfa):\n",
        "  fig = go.Figure()\n",
        "  fig.add_trace(go.Scatter(\n",
        "     x=dfa['G-X'],\n",
        "     y=dfa['G-Y'],\n",
        "     mode='markers',\n",
        "   \n",
        "  ))  \n",
        "  fig.update_xaxes(range=[-3, 1], zeroline=False)\n",
        "  fig.update_yaxes(range=[-4, 4])\n",
        "\n",
        "  px.scatter(x=dfa['G-X'], y=dfa['G-Y'])\n",
        "  fig.update_traces(marker=dict(color=\"#f7c472\"))\n",
        "  fig.add_shape(type=\"circle\",\n",
        "      xref=\"x\", yref=\"y\",\n",
        "      x0=-1.5, y0=-1, x1=-0.5, y1=1,\n",
        "      line_color=COLOR_DISCRETE_SEQUENCE[0],\n",
        "  )\n",
        "  fig.add_shape(type=\"circle\",\n",
        "      xref=\"x\", yref=\"y\",\n",
        "      x0=-2, y0=-2, x1=0, y1=2,\n",
        "      line_color=COLOR_DISCRETE_SEQUENCE[1],\n",
        "  )\n",
        "  fig.add_shape(type=\"circle\",\n",
        "      xref=\"x\", yref=\"y\",\n",
        "      x0=-2.5, y0=-3, x1=0.5, y1=3,\n",
        "      line_color=COLOR_DISCRETE_SEQUENCE[2],\n",
        "  )\n",
        "  fig.update_layout(title_text='Forces graph', \n",
        "                    title_x=0.5, \n",
        "                    font_color=FONT_COLOR, \n",
        "                    plot_bgcolor=BG_PIC_COLOR, \n",
        "                    paper_bgcolor=PAPER_BGCOLOR, \n",
        "                    xaxis_title=\"Force value G-X\", \n",
        "                    yaxis_title=\"Force value G-Y\")\n",
        "  fig.update_xaxes(showgrid=True, gridwidth=1, gridcolor=BG_GRAPH_COLOR)\n",
        "  fig.update_yaxes(showgrid=True, gridwidth=1, gridcolor=BG_GRAPH_COLOR)\n",
        "  return fig\n"
      ],
      "metadata": {
        "id": "Ml2hSxm9aKO5"
      },
      "id": "Ml2hSxm9aKO5",
      "execution_count": 21,
      "outputs": []
    },
    {
      "cell_type": "code",
      "execution_count": 15,
      "id": "e4786873",
      "metadata": {
        "id": "e4786873"
      },
      "outputs": [],
      "source": [
        "def show_graph_with_moving_dot(dfa):\n",
        "  xy_array = dfa[['LONGITUDE', 'LATITUDE']].values\n",
        "  xm = np.min(xy_array[:, 0])\n",
        "  xM = np.max(xy_array[:, 0])\n",
        "  ym = np.min(xy_array[:, 1])\n",
        "  yM = np.max(xy_array[:, 1])\n",
        "\n",
        "  zx = xy_array.copy()\n",
        "  colors = ['aliceblue',  'aqua', 'aquamarine', 'darkturquoise']\n",
        "\n",
        "  N = len(xy_array)\n",
        "  fig = go.Figure(\n",
        "      data=[go.Scatter(x=xy_array[:, 0], \n",
        "                       y=xy_array[:, 1], \n",
        "                       mode=\"lines\", \n",
        "                       line=dict(width=2, color=\"#f7c472\")),\n",
        "            go.Scatter(x=xy_array[:, 0], \n",
        "                       y=xy_array[:, 1], \n",
        "                       mode=\"lines\", \n",
        "                       line=dict(width=2, color=\"#f7c472\")),],\n",
        "\n",
        "      layout=go.Layout(\n",
        "          xaxis=dict(range=[xm, xM], autorange=False, zeroline=False),\n",
        "          yaxis=dict(range=[ym, yM], autorange=False, zeroline=False),\n",
        "          title_font_color=FONT_COLOR,\n",
        "          legend_title_font_color=FONT_COLOR,\n",
        "          title_text=\"Trasa przejazdu\", hovermode=\"closest\",\n",
        "          updatemenus=[dict(type=\"buttons\",\n",
        "                            buttons=[dict(label=\"Play\",\n",
        "                                          method=\"animate\",\n",
        "                                          args=[None, {\"frame\": {\"duration\": 5}}])])]),\n",
        "      \n",
        "      frames=[go.Frame(\n",
        "          data=[go.Scatter(\n",
        "              x=[zx[:, 0][k]],\n",
        "              y=[zx[:, 1][k]],\n",
        "              mode=\"markers\",\n",
        "              marker=dict(color=\"red\", size=10))])\n",
        "\n",
        "          for k in trange(0, N, 1)]\n",
        "  )\n",
        "  fig.update_layout(font_color=FONT_COLOR,\n",
        "                    title_font_color = FONT_COLOR,\n",
        "                    legend_font_color = FONT_COLOR, \n",
        "                    legend_title_font_color = FONT_COLOR,\n",
        "                    title_x = 0.5,\n",
        "                    plot_bgcolor = BG_PIC_COLOR, \n",
        "                    paper_bgcolor = PAPER_BGCOLOR,\n",
        "                    xaxis_title = \"Longitude\", \n",
        "                    yaxis_title = \"Latitiude\")\n",
        "  fig.update_xaxes(showgrid=True, gridwidth=1, gridcolor=BG_GRAPH_COLOR)\n",
        "  fig.update_yaxes(showgrid=True, gridwidth=1, gridcolor=BG_GRAPH_COLOR)\n",
        "  return fig"
      ]
    },
    {
      "cell_type": "markdown",
      "source": [
        "# Dashboard creation"
      ],
      "metadata": {
        "id": "oVbgcW88_XhX"
      },
      "id": "oVbgcW88_XhX"
    },
    {
      "cell_type": "code",
      "source": [
        "external_stylesheets = [dbc.themes.SLATE]\n",
        "app = JupyterDash(__name__,external_stylesheets=external_stylesheets)\n",
        "app.title = \"Acceleration studies\"\n",
        "server = app.server"
      ],
      "metadata": {
        "id": "cVOCfaW90gze"
      },
      "id": "cVOCfaW90gze",
      "execution_count": 16,
      "outputs": []
    },
    {
      "cell_type": "markdown",
      "source": [
        "Funkcja stworzona do wyboru okrażeń i odpowiadających im położeń"
      ],
      "metadata": {
        "id": "8ZMGFNZjihBF"
      },
      "id": "8ZMGFNZjihBF"
    },
    {
      "cell_type": "code",
      "source": [
        "df = pd.read_csv('/content/drive/MyDrive/analiza danych/wizualizacja danych/trening_18_05_2022/trening.csv')\n",
        "laps = df['LAP ID'].unique()\n",
        "value = [2,6]\n",
        "df_based_on_laps = df.loc[(df['LAP ID'] >= value[0]) & (df['LAP ID'] <= value[1])]\n",
        "xy_array = df_based_on_laps[['LONGITUDE', 'LATITUDE']].values"
      ],
      "metadata": {
        "id": "f98dqWQGfxJi"
      },
      "id": "f98dqWQGfxJi",
      "execution_count": 17,
      "outputs": []
    },
    {
      "cell_type": "code",
      "source": [
        "sidebar = html.Div([\n",
        "        html.H3('Addtional graphs: '),\n",
        "        html.Hr(),\n",
        "        html.P(\n",
        "            'Histogram of vehicle directional accelerations.', className='lead'\n",
        "        ),\n",
        "\n",
        "        dbc.Row([\n",
        "                 dbc.Col(dcc.Graph(id='graph1', figure = plot_histogram(df_based_on_laps)))\n",
        "        ]),\n",
        "\n",
        "        html.P(\n",
        "            'Polar diagram of vehicle directional acceleration.', className='lead'\n",
        "        ),\n",
        "\n",
        "        dbc.Row([\n",
        "                 dbc.Col(dcc.Graph(id='graph12', figure = plot_acceleration_graph(df_based_on_laps)))\n",
        "        ]), \n",
        "            \n",
        "    ],\n",
        "    style=SIDEBAR_STYLE,\n",
        ")"
      ],
      "metadata": {
        "id": "if_YutX4maRE"
      },
      "id": "if_YutX4maRE",
      "execution_count": 22,
      "outputs": []
    },
    {
      "cell_type": "code",
      "source": [
        "content = html.Div([\n",
        "     html.H3('Grand tour. Measurment of the forces exerted on a racing car during a run on the track.'),\n",
        "     html.Hr(),\n",
        "     html.P(\n",
        "            'The dashboard presents graphs visualising the movement of the vehicle on the track, a histogram and polar plot of vehicle acceleration and a plot of vehicle speed versus time.', className='lead'\n",
        "        ),\n",
        "     dbc.Row([\n",
        "                dbc.Label('To select a lap, grab and move the slider'),               \n",
        "                dcc.RangeSlider(1, 36, 1, value=[2, 6], id = 'laps_slider'),\n",
        "            ]),  \n",
        "     dbc.Row(\n",
        "                [                \n",
        "                    dbc.Col(dcc.Graph(id='graph2', figure = show_graph_with_moving_dot(df_based_on_laps)))\n",
        "                ],\n",
        "                align=\"center\",\n",
        "          ),\n",
        "     dbc.Row(\n",
        "                [                \n",
        "                    dbc.Col(dcc.Graph(id='graph3', figure = plot_speed_vs_time_graph(df_based_on_laps)))\n",
        "                ],\n",
        "                align=\"center\",\n",
        "          ),\n",
        "\n",
        "    ],style=CONTENT_STYLE)\n",
        "\n",
        "app.layout = html.Div([sidebar, content])"
      ],
      "metadata": {
        "id": "_ciih_D4QhdL",
        "colab": {
          "base_uri": "https://localhost:8080/"
        },
        "outputId": "c02b6f2e-a934-403f-87e7-02dc3035d42b"
      },
      "id": "_ciih_D4QhdL",
      "execution_count": 23,
      "outputs": [
        {
          "output_type": "stream",
          "name": "stderr",
          "text": [
            "100%|██████████| 2278/2278 [00:01<00:00, 1412.48it/s]\n"
          ]
        }
      ]
    },
    {
      "cell_type": "code",
      "source": [
        "@app.callback(\n",
        "    Output(component_id='graph1',component_property='figure'), \n",
        "    Output(component_id='graph12',component_property='figure'), \n",
        "    Output(component_id='graph2',component_property='figure'), \n",
        "    Output(component_id='graph3',component_property='figure'),\n",
        "    Input(component_id='laps_slider',component_property='value')) #slider\n",
        "\n",
        "def update_output(input_value):\n",
        "  dfa = dfa = df.loc[(df['LAP ID'] >= input_value[0]) & (df['LAP ID'] <= input_value[1])]\n",
        "  return plot_histogram(dfa),plot_acceleration_graph(dfa),  show_graph_with_moving_dot(dfa), plot_speed_vs_time_graph(dfa)"
      ],
      "metadata": {
        "id": "KwK3Cj6ihaSp"
      },
      "id": "KwK3Cj6ihaSp",
      "execution_count": 24,
      "outputs": []
    },
    {
      "cell_type": "code",
      "source": [
        "app.run_server()\n",
        "#app.run_server(mode='inline', host='localhost', port=1111)"
      ],
      "metadata": {
        "colab": {
          "base_uri": "https://localhost:8080/",
          "height": 671
        },
        "id": "sTf9dmrWQmm6",
        "outputId": "32707213-bb8d-4e2b-d244-6ba28ad67914"
      },
      "id": "sTf9dmrWQmm6",
      "execution_count": 25,
      "outputs": [
        {
          "output_type": "display_data",
          "data": {
            "text/plain": [
              "<IPython.core.display.Javascript object>"
            ],
            "application/javascript": [
              "(async (port, path, width, height, cache, element) => {\n",
              "    if (!google.colab.kernel.accessAllowed && !cache) {\n",
              "      return;\n",
              "    }\n",
              "    element.appendChild(document.createTextNode(''));\n",
              "    const url = await google.colab.kernel.proxyPort(port, {cache});\n",
              "    const iframe = document.createElement('iframe');\n",
              "    iframe.src = new URL(path, url).toString();\n",
              "    iframe.height = height;\n",
              "    iframe.width = width;\n",
              "    iframe.style.border = 0;\n",
              "    element.appendChild(iframe);\n",
              "  })(1111, \"/\", \"100%\", 650, false, window.element)"
            ]
          },
          "metadata": {}
        }
      ]
    },
    {
      "cell_type": "code",
      "source": [
        ""
      ],
      "metadata": {
        "id": "xUM36Vpai5lZ"
      },
      "id": "xUM36Vpai5lZ",
      "execution_count": null,
      "outputs": []
    }
  ],
  "metadata": {
    "kernelspec": {
      "display_name": "Python 3 (ipykernel)",
      "language": "python",
      "name": "python3"
    },
    "language_info": {
      "codemirror_mode": {
        "name": "ipython",
        "version": 3
      },
      "file_extension": ".py",
      "mimetype": "text/x-python",
      "name": "python",
      "nbconvert_exporter": "python",
      "pygments_lexer": "ipython3",
      "version": "3.8.10"
    },
    "colab": {
      "name": "WRC_car_dashboard.ipynb",
      "provenance": [],
      "collapsed_sections": [],
      "include_colab_link": true
    }
  },
  "nbformat": 4,
  "nbformat_minor": 5
}